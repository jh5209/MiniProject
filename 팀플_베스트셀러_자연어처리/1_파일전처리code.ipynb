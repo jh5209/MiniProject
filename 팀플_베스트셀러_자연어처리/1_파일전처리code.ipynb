{
 "cells": [
  {
   "cell_type": "markdown",
   "metadata": {},
   "source": [
    "#### 전처리를 위해 csv파일 제목 불러오기"
   ]
  },
  {
   "cell_type": "code",
   "execution_count": 42,
   "metadata": {},
   "outputs": [
    {
     "data": {
      "text/plain": [
       "['알라딘_월간+베스트_자기계발_2012년10월_20220406.csv',\n",
       " '알라딘_월간+베스트_자기계발_2012년11월_20220406.csv',\n",
       " '알라딘_월간+베스트_자기계발_2012년12월_20220406.csv',\n",
       " '알라딘_월간+베스트_자기계발_2012년3월_20220406.csv',\n",
       " '알라딘_월간+베스트_자기계발_2012년4월_20220406.csv',\n",
       " '알라딘_월간+베스트_자기계발_2012년5월_20220406.csv',\n",
       " '알라딘_월간+베스트_자기계발_2012년6월_20220406.csv',\n",
       " '알라딘_월간+베스트_자기계발_2012년7월_20220406.csv',\n",
       " '알라딘_월간+베스트_자기계발_2012년8월_20220406.csv',\n",
       " '알라딘_월간+베스트_자기계발_2012년9월_20220406.csv']"
      ]
     },
     "execution_count": 42,
     "metadata": {},
     "output_type": "execute_result"
    }
   ],
   "source": [
    "import os\n",
    "# 파일 제목 불러오기\n",
    "# os.listdir() 메서드는 지정한 경로의 모든 파일과 디렉토리의 리스트를 반환함\n",
    "path = 'C:\\\\Users\\\\admin\\\\Desktop\\\\베스트셀러 자연어처리\\\\팀플data\\\\'\n",
    "file_list = os.listdir(path)\n",
    "file_list_py = [file for file in file_list if file.endswith('.csv')]\n",
    "file_list_py[:10] # 10행만 출력"
   ]
  },
  {
   "cell_type": "markdown",
   "metadata": {},
   "source": [
    "#### 불러온 파일을 데이터프레임으로 바꾸기"
   ]
  },
  {
   "cell_type": "code",
   "execution_count": 47,
   "metadata": {},
   "outputs": [],
   "source": [
    "def file_export(file):\n",
    "    import pandas as pd\n",
    "    # 데이터프레임 만들기\n",
    "    Jg_df = pd.DataFrame()\n",
    "    \n",
    "    # for문으로 데이터 불러오기\n",
    "    for i in file_list_py:\n",
    "        # 불러온 파일 경로와 파일 이름을 사용하여 데이터프레임으로 열기\n",
    "        data = pd.read_csv(path + i)\n",
    "        \n",
    "        # 라벨링 : 긍정 1 - 200행까지 1, 부정 0 - 800~1000행까지\n",
    "        best = data.iloc[:200,:]\n",
    "        worst = data.iloc[800:1000,:]\n",
    "        best.insert(2,'label',1)\n",
    "        worst.insert(2,'label',0)\n",
    "        \n",
    "        # 자동변수 생성하기\n",
    "        for k in range(108): # 엑셀파일이 108개 존재하기 때문에 108번 반복\n",
    "            globals()['b{}'.format(k+1)] = best # b1, b2... b108에 자동으로 best 변수가 생성\n",
    "            globals()['w{}'.format(k+1)] = worst # w1, w2... w108에 자동으로 worst 변수가 생성\n",
    "    \n",
    "        # 라벨링한 열 합치기\n",
    "        Jg_df = pd.concat([Jg_df, best, worst])\n",
    "\n",
    "    # 리셋 인덱스\n",
    "    Jg_df = Jg_df.reset_index(drop = True)\n",
    "    # Jg_df1 = Jg_df.copy\n",
    "    \n",
    "    return Jg_df\n"
   ]
  },
  {
   "cell_type": "code",
   "execution_count": 48,
   "metadata": {},
   "outputs": [],
   "source": [
    "def null_duplicated(df):  \n",
    "    # 전체 null값의 합\n",
    "    df.isnull().sum()\n",
    "    # null값 지우기\n",
    "    df = df.dropna()\n",
    "    # 중복값 지우기\n",
    "    df = df.drop_duplicates('ISBN')\n",
    "    return df"
   ]
  },
  {
   "cell_type": "code",
   "execution_count": 6,
   "metadata": {},
   "outputs": [],
   "source": [
    "# csv파일 내보내기(전체칼럼)\n",
    "def export_csv(df)\n",
    "    name = input('파일 이름을 입력하세요 : ')\n",
    "    df.to_csv(f'{name}.csv', index=False, encoding='cp949')"
   ]
  },
  {
   "cell_type": "code",
   "execution_count": 52,
   "metadata": {},
   "outputs": [
    {
     "data": {
      "text/html": [
       "<div>\n",
       "<style scoped>\n",
       "    .dataframe tbody tr th:only-of-type {\n",
       "        vertical-align: middle;\n",
       "    }\n",
       "\n",
       "    .dataframe tbody tr th {\n",
       "        vertical-align: top;\n",
       "    }\n",
       "\n",
       "    .dataframe thead th {\n",
       "        text-align: right;\n",
       "    }\n",
       "</style>\n",
       "<table border=\"1\" class=\"dataframe\">\n",
       "  <thead>\n",
       "    <tr style=\"text-align: right;\">\n",
       "      <th></th>\n",
       "      <th>순번/순위</th>\n",
       "      <th>구분</th>\n",
       "      <th>label</th>\n",
       "      <th>상품명</th>\n",
       "      <th>ISBN</th>\n",
       "      <th>ISBN13</th>\n",
       "      <th>부가기호</th>\n",
       "      <th>출판사/제작사</th>\n",
       "      <th>저자/아티스트</th>\n",
       "      <th>정가</th>\n",
       "      <th>판매가</th>\n",
       "      <th>할인액</th>\n",
       "      <th>할인율</th>\n",
       "      <th>마일리지</th>\n",
       "      <th>출간일</th>\n",
       "      <th>세일즈포인트</th>\n",
       "    </tr>\n",
       "  </thead>\n",
       "  <tbody>\n",
       "    <tr>\n",
       "      <th>0</th>\n",
       "      <td>1.0</td>\n",
       "      <td>자기계발</td>\n",
       "      <td>1</td>\n",
       "      <td>당신의 꿈은 무엇입니까</td>\n",
       "      <td>8901150794</td>\n",
       "      <td>9.788901e+12</td>\n",
       "      <td>3810.0</td>\n",
       "      <td>웅진지식하우스</td>\n",
       "      <td>김수영 지음</td>\n",
       "      <td>15,000</td>\n",
       "      <td>13,500</td>\n",
       "      <td>1,500</td>\n",
       "      <td>10%</td>\n",
       "      <td>750점</td>\n",
       "      <td>20120919.0</td>\n",
       "      <td>3606.0</td>\n",
       "    </tr>\n",
       "    <tr>\n",
       "      <th>1</th>\n",
       "      <td>2.0</td>\n",
       "      <td>자기계발</td>\n",
       "      <td>1</td>\n",
       "      <td>멈추지 마, 다시 꿈부터 써봐</td>\n",
       "      <td>8901107589</td>\n",
       "      <td>9.788901e+12</td>\n",
       "      <td>3810.0</td>\n",
       "      <td>웅진지식하우스</td>\n",
       "      <td>김수영 지음</td>\n",
       "      <td>12,000</td>\n",
       "      <td>10,800</td>\n",
       "      <td>1,200</td>\n",
       "      <td>10%</td>\n",
       "      <td>600점</td>\n",
       "      <td>20100430.0</td>\n",
       "      <td>13755.0</td>\n",
       "    </tr>\n",
       "    <tr>\n",
       "      <th>2</th>\n",
       "      <td>3.0</td>\n",
       "      <td>자기계발</td>\n",
       "      <td>1</td>\n",
       "      <td>나는 결심하지만 뇌는 비웃는다</td>\n",
       "      <td>8971848855</td>\n",
       "      <td>9.788972e+12</td>\n",
       "      <td>13320.0</td>\n",
       "      <td>모멘텀</td>\n",
       "      <td>데이비드 디살보 지음, 이은진 옮김</td>\n",
       "      <td>15,000</td>\n",
       "      <td>13,500</td>\n",
       "      <td>1,500</td>\n",
       "      <td>10%</td>\n",
       "      <td>750점</td>\n",
       "      <td>20120829.0</td>\n",
       "      <td>2356.0</td>\n",
       "    </tr>\n",
       "  </tbody>\n",
       "</table>\n",
       "</div>"
      ],
      "text/plain": [
       "   순번/순위    구분  label               상품명        ISBN        ISBN13     부가기호  \\\n",
       "0    1.0  자기계발      1      당신의 꿈은 무엇입니까  8901150794  9.788901e+12   3810.0   \n",
       "1    2.0  자기계발      1  멈추지 마, 다시 꿈부터 써봐  8901107589  9.788901e+12   3810.0   \n",
       "2    3.0  자기계발      1  나는 결심하지만 뇌는 비웃는다  8971848855  9.788972e+12  13320.0   \n",
       "\n",
       "   출판사/제작사              저자/아티스트      정가     판매가    할인액  할인율  마일리지         출간일  \\\n",
       "0  웅진지식하우스               김수영 지음  15,000  13,500  1,500  10%  750점  20120919.0   \n",
       "1  웅진지식하우스               김수영 지음  12,000  10,800  1,200  10%  600점  20100430.0   \n",
       "2      모멘텀  데이비드 디살보 지음, 이은진 옮김  15,000  13,500  1,500  10%  750점  20120829.0   \n",
       "\n",
       "    세일즈포인트  \n",
       "0   3606.0  \n",
       "1  13755.0  \n",
       "2   2356.0  "
      ]
     },
     "execution_count": 52,
     "metadata": {},
     "output_type": "execute_result"
    }
   ],
   "source": [
    "if __name__ == '__main__':\n",
    "    a = file_export(file_list_py)\n",
    "    b = null_duplicated(a)\n",
    "\n",
    "b.head(3)   "
   ]
  },
  {
   "cell_type": "code",
   "execution_count": 54,
   "metadata": {},
   "outputs": [
    {
     "data": {
      "text/html": [
       "<div>\n",
       "<style scoped>\n",
       "    .dataframe tbody tr th:only-of-type {\n",
       "        vertical-align: middle;\n",
       "    }\n",
       "\n",
       "    .dataframe tbody tr th {\n",
       "        vertical-align: top;\n",
       "    }\n",
       "\n",
       "    .dataframe thead th {\n",
       "        text-align: right;\n",
       "    }\n",
       "</style>\n",
       "<table border=\"1\" class=\"dataframe\">\n",
       "  <thead>\n",
       "    <tr style=\"text-align: right;\">\n",
       "      <th></th>\n",
       "      <th>label</th>\n",
       "      <th>상품명</th>\n",
       "    </tr>\n",
       "  </thead>\n",
       "  <tbody>\n",
       "    <tr>\n",
       "      <th>0</th>\n",
       "      <td>1</td>\n",
       "      <td>당신의 꿈은 무엇입니까</td>\n",
       "    </tr>\n",
       "    <tr>\n",
       "      <th>1</th>\n",
       "      <td>1</td>\n",
       "      <td>멈추지 마, 다시 꿈부터 써봐</td>\n",
       "    </tr>\n",
       "    <tr>\n",
       "      <th>2</th>\n",
       "      <td>1</td>\n",
       "      <td>나는 결심하지만 뇌는 비웃는다</td>\n",
       "    </tr>\n",
       "  </tbody>\n",
       "</table>\n",
       "</div>"
      ],
      "text/plain": [
       "   label               상품명\n",
       "0      1      당신의 꿈은 무엇입니까\n",
       "1      1  멈추지 마, 다시 꿈부터 써봐\n",
       "2      1  나는 결심하지만 뇌는 비웃는다"
      ]
     },
     "execution_count": 54,
     "metadata": {},
     "output_type": "execute_result"
    }
   ],
   "source": [
    " # 필요없는 컬럼 삭제\n",
    "df = b.drop(['순번/순위', '구분', 'ISBN', 'ISBN13', '부가기호', '출판사/제작사', '저자/아티스트', '정가', '판매가', '할인액', '할인율', '마일리지', '출간일', '세일즈포인트'], axis=1) \n",
    "df.head(3)\n"
   ]
  },
  {
   "cell_type": "code",
   "execution_count": null,
   "metadata": {},
   "outputs": [],
   "source": [
    "# csv파일 내보내기(필요없는 칼럼 삭제)\n",
    "def export_csv(df)\n",
    "    name = input('파일 이름을 입력하세요 : ')\n",
    "    df.to_csv(f'{name}.csv', index=False, encoding='cp949')"
   ]
  }
 ],
 "metadata": {
  "interpreter": {
   "hash": "5179d32cf6ec497baf3f8a3ef987cc77c5d2dc691fdde20a56316522f61a7323"
  },
  "kernelspec": {
   "display_name": "Python 3.9.7 ('base')",
   "language": "python",
   "name": "python3"
  },
  "language_info": {
   "codemirror_mode": {
    "name": "ipython",
    "version": 3
   },
   "file_extension": ".py",
   "mimetype": "text/x-python",
   "name": "python",
   "nbconvert_exporter": "python",
   "pygments_lexer": "ipython3",
   "version": "3.9.7"
  },
  "orig_nbformat": 4
 },
 "nbformat": 4,
 "nbformat_minor": 2
}
