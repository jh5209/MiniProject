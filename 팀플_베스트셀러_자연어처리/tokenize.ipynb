{
  "cells": [
    {
      "cell_type": "code",
      "execution_count": 4,
      "metadata": {
        "id": "ePvOMcRY3k2_"
      },
      "outputs": [],
      "source": [
        "import pandas as pd\n",
        "import numpy as np\n",
        "import nltk\n",
        "import matplotlib.pyplot as plt\n",
        "import re # 정규표현식\n",
        "import urllib.request\n",
        "from tqdm import tqdm # 작업 진행률 표시\n",
        "from tensorflow.keras.preprocessing.text import Tokenizer # 텍스트 토큰화\n",
        "from tensorflow.keras.preprocessing.sequence import pad_sequences # 길이가 다른 여러 문장의 길이를 임의로 동일하게 맞춰줌"
      ]
    },
    {
      "cell_type": "code",
      "execution_count": 5,
      "metadata": {},
      "outputs": [
        {
          "data": {
            "text/html": [
              "<div>\n",
              "<style scoped>\n",
              "    .dataframe tbody tr th:only-of-type {\n",
              "        vertical-align: middle;\n",
              "    }\n",
              "\n",
              "    .dataframe tbody tr th {\n",
              "        vertical-align: top;\n",
              "    }\n",
              "\n",
              "    .dataframe thead th {\n",
              "        text-align: right;\n",
              "    }\n",
              "</style>\n",
              "<table border=\"1\" class=\"dataframe\">\n",
              "  <thead>\n",
              "    <tr style=\"text-align: right;\">\n",
              "      <th></th>\n",
              "      <th>label</th>\n",
              "      <th>상품명</th>\n",
              "    </tr>\n",
              "  </thead>\n",
              "  <tbody>\n",
              "    <tr>\n",
              "      <th>0</th>\n",
              "      <td>1</td>\n",
              "      <td>당신의 꿈은 무엇입니까</td>\n",
              "    </tr>\n",
              "    <tr>\n",
              "      <th>1</th>\n",
              "      <td>1</td>\n",
              "      <td>멈추지 마, 다시 꿈부터 써봐</td>\n",
              "    </tr>\n",
              "    <tr>\n",
              "      <th>2</th>\n",
              "      <td>1</td>\n",
              "      <td>나는 결심하지만 뇌는 비웃는다</td>\n",
              "    </tr>\n",
              "    <tr>\n",
              "      <th>3</th>\n",
              "      <td>1</td>\n",
              "      <td>하루 15분 정리의 힘</td>\n",
              "    </tr>\n",
              "    <tr>\n",
              "      <th>4</th>\n",
              "      <td>1</td>\n",
              "      <td>서른 살엔 미처 몰랐던 것들</td>\n",
              "    </tr>\n",
              "  </tbody>\n",
              "</table>\n",
              "</div>"
            ],
            "text/plain": [
              "   label               상품명\n",
              "0      1      당신의 꿈은 무엇입니까\n",
              "1      1  멈추지 마, 다시 꿈부터 써봐\n",
              "2      1  나는 결심하지만 뇌는 비웃는다\n",
              "3      1      하루 15분 정리의 힘\n",
              "4      1   서른 살엔 미처 몰랐던 것들"
            ]
          },
          "execution_count": 5,
          "metadata": {},
          "output_type": "execute_result"
        }
      ],
      "source": [
        "data = pd.read_csv('C:/Users/User/Desktop/팀플code/JG.csv',encoding='cp949')\n",
        "data.head()"
      ]
    },
    {
      "cell_type": "code",
      "execution_count": 6,
      "metadata": {},
      "outputs": [],
      "source": [
        "from nltk.corpus import stopwords\n",
        "from nltk.tokenize import word_tokenize \n",
        "from konlpy.tag import Okt"
      ]
    },
    {
      "cell_type": "markdown",
      "metadata": {
        "id": "jjkcw0iaWCwu"
      },
      "source": [
        "정규 표현식 - 특수문자 제거 "
      ]
    },
    {
      "cell_type": "code",
      "execution_count": 7,
      "metadata": {
        "colab": {
          "base_uri": "https://localhost:8080/",
          "height": 399
        },
        "id": "RK3HWVqPV-Hv",
        "outputId": "bbe9b983-9e38-4ba6-b8bd-fcaa8a46718d"
      },
      "outputs": [
        {
          "name": "stderr",
          "output_type": "stream",
          "text": [
            "C:\\Users\\User\\AppData\\Local\\Temp/ipykernel_25344/3883516748.py:3: FutureWarning: The default value of regex will change from True to False in a future version.\n",
            "  data['상품명'] = data['상품명'].str.replace('[^ㄱ-ㅎㅏ-ㅣ가-힣 ]',\"\")\n"
          ]
        },
        {
          "data": {
            "text/html": [
              "<div>\n",
              "<style scoped>\n",
              "    .dataframe tbody tr th:only-of-type {\n",
              "        vertical-align: middle;\n",
              "    }\n",
              "\n",
              "    .dataframe tbody tr th {\n",
              "        vertical-align: top;\n",
              "    }\n",
              "\n",
              "    .dataframe thead th {\n",
              "        text-align: right;\n",
              "    }\n",
              "</style>\n",
              "<table border=\"1\" class=\"dataframe\">\n",
              "  <thead>\n",
              "    <tr style=\"text-align: right;\">\n",
              "      <th></th>\n",
              "      <th>label</th>\n",
              "      <th>상품명</th>\n",
              "    </tr>\n",
              "  </thead>\n",
              "  <tbody>\n",
              "    <tr>\n",
              "      <th>0</th>\n",
              "      <td>1</td>\n",
              "      <td>당신의 꿈은 무엇입니까</td>\n",
              "    </tr>\n",
              "    <tr>\n",
              "      <th>1</th>\n",
              "      <td>1</td>\n",
              "      <td>멈추지 마 다시 꿈부터 써봐</td>\n",
              "    </tr>\n",
              "    <tr>\n",
              "      <th>2</th>\n",
              "      <td>1</td>\n",
              "      <td>나는 결심하지만 뇌는 비웃는다</td>\n",
              "    </tr>\n",
              "    <tr>\n",
              "      <th>3</th>\n",
              "      <td>1</td>\n",
              "      <td>하루 분 정리의 힘</td>\n",
              "    </tr>\n",
              "    <tr>\n",
              "      <th>4</th>\n",
              "      <td>1</td>\n",
              "      <td>서른 살엔 미처 몰랐던 것들</td>\n",
              "    </tr>\n",
              "    <tr>\n",
              "      <th>5</th>\n",
              "      <td>1</td>\n",
              "      <td>내가 행복해지는 거절의 힘</td>\n",
              "    </tr>\n",
              "    <tr>\n",
              "      <th>6</th>\n",
              "      <td>1</td>\n",
              "      <td>사람은 무엇으로 성장하는가</td>\n",
              "    </tr>\n",
              "    <tr>\n",
              "      <th>7</th>\n",
              "      <td>1</td>\n",
              "      <td>시크릿</td>\n",
              "    </tr>\n",
              "    <tr>\n",
              "      <th>8</th>\n",
              "      <td>1</td>\n",
              "      <td>미생</td>\n",
              "    </tr>\n",
              "    <tr>\n",
              "      <th>9</th>\n",
              "      <td>1</td>\n",
              "      <td>리딩으로 리드하라</td>\n",
              "    </tr>\n",
              "  </tbody>\n",
              "</table>\n",
              "</div>"
            ],
            "text/plain": [
              "   label               상품명\n",
              "0      1      당신의 꿈은 무엇입니까\n",
              "1      1   멈추지 마 다시 꿈부터 써봐\n",
              "2      1  나는 결심하지만 뇌는 비웃는다\n",
              "3      1        하루 분 정리의 힘\n",
              "4      1   서른 살엔 미처 몰랐던 것들\n",
              "5      1    내가 행복해지는 거절의 힘\n",
              "6      1    사람은 무엇으로 성장하는가\n",
              "7      1               시크릿\n",
              "8      1               미생 \n",
              "9      1         리딩으로 리드하라"
            ]
          },
          "execution_count": 7,
          "metadata": {},
          "output_type": "execute_result"
        }
      ],
      "source": [
        "# 한글과 공백 제외 모두 제거 : 띄어쓰기 유지, 구두점 제거\n",
        "\n",
        "data['상품명'] = data['상품명'].str.replace('[^ㄱ-ㅎㅏ-ㅣ가-힣 ]',\"\")\n",
        "data[:10]"
      ]
    },
    {
      "cell_type": "markdown",
      "metadata": {
        "id": "dSovtCH1W3kx"
      },
      "source": [
        "#### 토큰화"
      ]
    },
    {
      "cell_type": "code",
      "execution_count": 53,
      "metadata": {},
      "outputs": [],
      "source": [
        "# 불용어 제거 \n",
        "\n",
        "okt = Okt()\n",
        "\n",
        "bul_word = []\n",
        "stopwords = ['의','가','이','은','들','을','하는','로','는','좀','잘','걍','과','도','를','으로','자','에','와','한','하다']\n",
        "\n",
        "stop_words = set(stopwords)\n",
        "\n",
        "for word_tokens in data['상품명']:\n",
        "    bul_word.append([word for word in okt.morphs(word_tokens) if not word in stop_words])\n"
      ]
    },
    {
      "cell_type": "code",
      "execution_count": 46,
      "metadata": {
        "colab": {
          "base_uri": "https://localhost:8080/"
        },
        "id": "V1GL3G5QsoDb",
        "outputId": "8e1f7a7a-0e5f-4334-cde3-e5882373ff95"
      },
      "outputs": [
        {
          "name": "stdout",
          "output_type": "stream",
          "text": [
            "[['당신', '꿈', '무엇', '입', '니까'], ['멈추지', '마', '다시', '꿈', '부터', '써', '봐'], ['나', '결심', '하', '지만', '뇌', '비웃는다'], ['하루', '분', '정리', '힘'], ['서른', '살', '엔', '미처', '몰랐던', '것']]\n"
          ]
        }
      ],
      "source": [
        "print(bul_word[:5])"
      ]
    },
    {
      "cell_type": "code",
      "execution_count": null,
      "metadata": {},
      "outputs": [],
      "source": [
        "# 2중 리스트를 faltten 하게 만들기\n",
        "final_word = sum(bul_word,[])\n",
        "print(final_word)"
      ]
    },
    {
      "cell_type": "code",
      "execution_count": 57,
      "metadata": {},
      "outputs": [],
      "source": [
        "# 명사 추출\n",
        "n_list=[]\n",
        "okt = Okt()\n",
        "for word in final_word:\n",
        "    n_list.append(okt.nouns(word))"
      ]
    },
    {
      "cell_type": "code",
      "execution_count": null,
      "metadata": {},
      "outputs": [],
      "source": [
        "final_n = sum(n_list, [])\n",
        "print(final_n)"
      ]
    },
    {
      "cell_type": "code",
      "execution_count": 61,
      "metadata": {},
      "outputs": [
        {
          "name": "stdout",
          "output_type": "stream",
          "text": [
            "한국어 top 10\n",
            "나      560\n",
            "법      435\n",
            "인생     434\n",
            "사람     375\n",
            "말      369\n",
            "일      326\n",
            "내      326\n",
            "것      320\n",
            "생각     297\n",
            "기술     267\n",
            "힘      262\n",
            "당신     237\n",
            "공부     236\n",
            "습관     230\n",
            "마음     222\n",
            "가지     204\n",
            "여자     170\n",
            "위      167\n",
            "책      166\n",
            "왜      156\n",
            "심리학    149\n",
            "시간     139\n",
            "리더     138\n",
            "만      134\n",
            "처럼     130\n",
            "비밀     130\n",
            "수업     130\n",
            "법칙     128\n",
            "분      127\n",
            "션      123\n",
            "살      121\n",
            "적      120\n",
            "성공     120\n",
            "년      118\n",
            "하라     115\n",
            "남자     114\n",
            "시작     113\n",
            "기적     110\n",
            "하루     110\n",
            "독서     110\n",
            "dtype: int64\n"
          ]
        }
      ],
      "source": [
        "korean = pd.Series(final_n).value_counts().head(40)\n",
        "print(\"한국어 top 10\")\n",
        "print(korean)"
      ]
    },
    {
      "cell_type": "code",
      "execution_count": 62,
      "metadata": {},
      "outputs": [],
      "source": [
        "# csv파일 내보내기\n",
        "korean.to_csv('J_cloud.csv', encoding='cp949')\n"
      ]
    }
  ],
  "metadata": {
    "accelerator": "GPU",
    "colab": {
      "collapsed_sections": [],
      "name": "4jo-mecab.ipynb",
      "provenance": []
    },
    "interpreter": {
      "hash": "f08154012ddadd8e950e6e9e035c7a7b32c136e7647e9b7c77e02eb723a8bedb"
    },
    "kernelspec": {
      "display_name": "Python 3.9.7 ('base')",
      "language": "python",
      "name": "python3"
    },
    "language_info": {
      "codemirror_mode": {
        "name": "ipython",
        "version": 3
      },
      "file_extension": ".py",
      "mimetype": "text/x-python",
      "name": "python",
      "nbconvert_exporter": "python",
      "pygments_lexer": "ipython3",
      "version": "3.9.7"
    }
  },
  "nbformat": 4,
  "nbformat_minor": 0
}
