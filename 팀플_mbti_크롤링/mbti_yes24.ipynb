{
 "cells": [
  {
   "cell_type": "code",
   "execution_count": 1,
   "metadata": {},
   "outputs": [],
   "source": [
    "import requests\n",
    "from bs4 import BeautifulSoup\n",
    "import openpyxl\n",
    "import pandas as pd\n",
    "import matplotlib.pyplot\n",
    "import matplotlib.pyplot"
   ]
  },
  {
   "cell_type": "code",
   "execution_count": 2,
   "metadata": {},
   "outputs": [
    {
     "name": "stdout",
     "output_type": "stream",
     "text": [
      "우리들의 MBTI\n",
      "나의 MBTI가 궁금하단 마리몽\n",
      "흔한남매 흔한 MBTI\n",
      "MBTI의 의미\n",
      "MBTI 공부혁명 ver.청소년\n",
      "MBTI 철학자\n",
      "성격을 읽는 법\n",
      "MBTI 사랑학개론\n",
      "MBTI 활동을 통해 사회 속 나의 역할을 생각하는 진로 수업\n",
      "MBTI와 나의 가족이해\n",
      "MBTI로 보는 교회 공동체\n",
      "MBTI와 군생활\n",
      "MBTI 공부혁명 ver.공무원시험\n",
      "나에게 꼭 맞는 직업을 찾는 책\n",
      "성격대로 키우는 부모학교\n",
      "성격을 팝니다\n",
      "성격과 삶\n",
      "흔한남매의 흔한 호기심 1~4 + 흔한 MBTI 세트[전5권]\n",
      "MBTI로 보는 데이트와 사랑\n",
      "MBTI로 보는 다양한 리더십\n",
      "나에게 꼭 맞는 직업을 찾는 책\n",
      "나에게 꼭 맞는 직업을 찾는 책\n",
      "성격\n",
      "2021년 07월\n",
      "2021년 11월\n",
      "2021년 09월\n",
      "2020년 11월\n",
      "2021년 06월\n",
      "2021년 11월\n",
      "2016년 09월\n",
      "2021년 12월\n",
      "2020년 09월\n",
      "1994년 10월\n",
      "2005년 10월\n",
      "2005년 11월\n",
      "2020년 09월\n",
      "2021년 09월\n",
      "2020년 10월\n",
      "2020년 09월\n",
      "2020년 11월\n",
      "2021년 12월\n",
      "2005년 10월\n",
      "2002년 06월\n",
      "2016년 06월\n",
      "2012년 06월\n",
      "2002년 11월\n"
     ]
    }
   ],
   "source": [
    "# yes24\n",
    "\n",
    "pageNum =1\n",
    "for i in range(1, pageNum+1):\n",
    "    response = requests.get('http://www.yes24.com/Product/Search?domain=BOOK&query=mbti')\n",
    "    html = response.text\n",
    "    soup = BeautifulSoup(html, 'html.parser')\n",
    "    title = soup.select('.gd_name')\n",
    "    day = soup.select('.authPub.info_date')\n",
    "    \n",
    "    # 결과는 리스트\n",
    "    bt = []\n",
    "    bd = []\n",
    "\n",
    "\n",
    "    for i in title:\n",
    "        b_title = i.text\n",
    "        print(b_title)\n",
    "        bt.append(b_title)    \n",
    "\n",
    "    for k in day:\n",
    "        b_day = k.text\n",
    "        print(b_day)\n",
    "        bd.append(b_day)\n",
    "    \n",
    "    pageNum = pageNum + 1\n"
   ]
  },
  {
   "cell_type": "code",
   "execution_count": null,
   "metadata": {},
   "outputs": [],
   "source": [
    "yes24 = pd.DataFrame({'책이름' : bt,\n",
    "                      '발행일자' : bd}\n",
    ")\n",
    "yes24"
   ]
  },
  {
   "cell_type": "code",
   "execution_count": 23,
   "metadata": {},
   "outputs": [],
   "source": [
    "y = []\n",
    "for i in range(0,len(yes24)):\n",
    "    y.append(yes24['발행일자'][i][0:4])\n",
    "yes24['year'] = y"
   ]
  },
  {
   "cell_type": "code",
   "execution_count": 24,
   "metadata": {},
   "outputs": [
    {
     "data": {
      "text/plain": [
       "year\n",
       "1994    1\n",
       "2002    2\n",
       "2005    3\n",
       "2012    1\n",
       "2016    2\n",
       "2020    6\n",
       "2021    8\n",
       "dtype: int64"
      ]
     },
     "execution_count": 24,
     "metadata": {},
     "output_type": "execute_result"
    }
   ],
   "source": [
    "dept = yes24.groupby(yes24['year'])\n",
    "\n",
    "dept.size()"
   ]
  },
  {
   "cell_type": "code",
   "execution_count": 27,
   "metadata": {},
   "outputs": [
    {
     "ename": "TypeError",
     "evalue": "int() argument must be a string, a bytes-like object or a number, not 'list'",
     "output_type": "error",
     "traceback": [
      "\u001b[1;31m---------------------------------------------------------------------------\u001b[0m",
      "\u001b[1;31mTypeError\u001b[0m                                 Traceback (most recent call last)",
      "\u001b[1;32m~\\AppData\\Local\\Temp/ipykernel_19592/1501888250.py\u001b[0m in \u001b[0;36m<module>\u001b[1;34m\u001b[0m\n\u001b[0;32m      1\u001b[0m \u001b[1;32mimport\u001b[0m \u001b[0mmatplotlib\u001b[0m\u001b[1;33m.\u001b[0m\u001b[0mpyplot\u001b[0m \u001b[1;32mas\u001b[0m \u001b[0mplt\u001b[0m\u001b[1;33m\u001b[0m\u001b[1;33m\u001b[0m\u001b[0m\n\u001b[1;32m----> 2\u001b[1;33m \u001b[0mplt\u001b[0m\u001b[1;33m.\u001b[0m\u001b[0mplot\u001b[0m\u001b[1;33m(\u001b[0m\u001b[0mint\u001b[0m\u001b[1;33m(\u001b[0m\u001b[1;33m[\u001b[0m\u001b[0mdept\u001b[0m\u001b[1;33m]\u001b[0m\u001b[1;33m)\u001b[0m\u001b[1;33m)\u001b[0m \u001b[1;31m#y축의 값\u001b[0m\u001b[1;33m\u001b[0m\u001b[1;33m\u001b[0m\u001b[0m\n\u001b[0m\u001b[0;32m      3\u001b[0m \u001b[0mplt\u001b[0m\u001b[1;33m.\u001b[0m\u001b[0mshow\u001b[0m\u001b[1;33m(\u001b[0m\u001b[1;33m)\u001b[0m\u001b[1;33m\u001b[0m\u001b[1;33m\u001b[0m\u001b[0m\n\u001b[0;32m      4\u001b[0m \u001b[1;33m\u001b[0m\u001b[0m\n",
      "\u001b[1;31mTypeError\u001b[0m: int() argument must be a string, a bytes-like object or a number, not 'list'"
     ]
    }
   ],
   "source": [
    "\n",
    "import matplotlib.pyplot as plt\n",
    "plt.plot(int([dept])) #y축의 값\n",
    "plt.show()\n",
    "    "
   ]
  },
  {
   "cell_type": "code",
   "execution_count": 123,
   "metadata": {},
   "outputs": [],
   "source": [
    "# 엑셀 저장하기\n",
    "yes24.to_excel(\"yes24.xlsx\",index=False)"
   ]
  }
 ],
 "metadata": {
  "interpreter": {
   "hash": "64ed87f41c7fdf52c331a867e6a7bb00bcc3d7ca700d58637ec15334591c407b"
  },
  "kernelspec": {
   "display_name": "Python 3.9.7 ('base')",
   "language": "python",
   "name": "python3"
  },
  "language_info": {
   "codemirror_mode": {
    "name": "ipython",
    "version": 3
   },
   "file_extension": ".py",
   "mimetype": "text/x-python",
   "name": "python",
   "nbconvert_exporter": "python",
   "pygments_lexer": "ipython3",
   "version": "3.9.7"
  },
  "orig_nbformat": 4
 },
 "nbformat": 4,
 "nbformat_minor": 2
}
