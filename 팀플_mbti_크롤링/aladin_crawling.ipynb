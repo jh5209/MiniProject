{
 "cells": [
  {
   "cell_type": "markdown",
   "metadata": {},
   "source": [
    "### 알라딘 도서 크롤링"
   ]
  },
  {
   "cell_type": "code",
   "execution_count": 72,
   "metadata": {},
   "outputs": [],
   "source": [
    "import requests\n",
    "from bs4 import BeautifulSoup\n",
    "import openpyxl\n",
    "import pandas as pd\n",
    "import urllib\n",
    "from urllib.parse import quote # 문자열을 아스키코드로 만들어줄 모듈"
   ]
  },
  {
   "cell_type": "code",
   "execution_count": 144,
   "metadata": {},
   "outputs": [],
   "source": [
    "def aladin(keyword):\n",
    "    keyword = keyword\n",
    "    pageNum = 1\n",
    "    df1 = pd.DataFrame() \n",
    "    # df2 = pd.DataFrame()    \n",
    "    while True:     \n",
    "        if pageNum > 2:\n",
    "            break    \n",
    "        for i in range(1, pageNum+1):\n",
    "            url = f'https://www.aladin.co.kr/search/wsearchresult.aspx?SearchTarget=Book&KeyWord=' + quote(keyword) + \\\n",
    "                '&KeyRecentPublish=0&OutStock=0&ViewType=Detail&SortOrder=11&CustReviewCount=0&CustReviewRank=0&KeyFullWord=' + quote(keyword) + \\\n",
    "                '&KeyLastWord=' + quote(keyword) + f'&CategorySearch=&chkKeyTitle=&chkKeyAuthor=&chkKeyPublisher=&chkKeyISBN=&chkKeyTag=&chkKeyTOC=&chkKeySubject=&ViewRowCount=25&page={i}'\n",
    "            response = requests.get(url)\n",
    "            response.raise_for_status() # 오류 발생 시 셀 종료\n",
    "            if response.status_code == 200: # 정상        \n",
    "                html = response.text\n",
    "                soup = BeautifulSoup(html, 'html.parser')\n",
    "                \n",
    "                boxs = soup.select('.bo3')\n",
    "                for box in boxs:\n",
    "                    # 책 제목 불러오기\n",
    "                    titles = box.select('a > b')\n",
    "                    for title in titles:\n",
    "                        title = title.get_text()\n",
    "                \n",
    "                    # 링크 불러오기\n",
    "                    link = box.attrs['href']\n",
    "                \n",
    "                    # 데이터프레임에 값들 집어넣기   \n",
    "                    data = {'책제목':title, '링크':link}\n",
    "                    aladin_df = df1.append(data, ignore_index=True)\n",
    "                \n",
    "                # # 발행일자 불러오기\n",
    "                # date = soup.select('tbody > tr > ul > li:nth-child(2)')\n",
    "                # for pubdate in date:\n",
    "                #     pubdate = pubdate.text()\n",
    "                #     #date = j.text.replace('\\t','').replace('\\n','')\n",
    "                    \n",
    "                #     data2 = {'발행일자':pubdate}\n",
    "                #     df2 = df2.append(data2, ignore_index=True)                   \n",
    "            else:\n",
    "                print(response.status_code) # 연결 오류 코드 프린트\n",
    "        pageNum += 1\n",
    "    \n",
    "    return aladin_df"
   ]
  },
  {
   "cell_type": "code",
   "execution_count": 145,
   "metadata": {},
   "outputs": [
    {
     "data": {
      "text/html": [
       "<div>\n",
       "<style scoped>\n",
       "    .dataframe tbody tr th:only-of-type {\n",
       "        vertical-align: middle;\n",
       "    }\n",
       "\n",
       "    .dataframe tbody tr th {\n",
       "        vertical-align: top;\n",
       "    }\n",
       "\n",
       "    .dataframe thead th {\n",
       "        text-align: right;\n",
       "    }\n",
       "</style>\n",
       "<table border=\"1\" class=\"dataframe\">\n",
       "  <thead>\n",
       "    <tr style=\"text-align: right;\">\n",
       "      <th></th>\n",
       "      <th>책제목</th>\n",
       "      <th>링크</th>\n",
       "    </tr>\n",
       "  </thead>\n",
       "  <tbody>\n",
       "    <tr>\n",
       "      <th>0</th>\n",
       "      <td>나에게 꼭 맞는 직업을 찾는 책</td>\n",
       "      <td>https://www.aladin.co.kr/shop/wproduct.aspx?It...</td>\n",
       "    </tr>\n",
       "  </tbody>\n",
       "</table>\n",
       "</div>"
      ],
      "text/plain": [
       "                 책제목                                                 링크\n",
       "0  나에게 꼭 맞는 직업을 찾는 책  https://www.aladin.co.kr/shop/wproduct.aspx?It..."
      ]
     },
     "execution_count": 145,
     "metadata": {},
     "output_type": "execute_result"
    }
   ],
   "source": [
    "if __name__ == '__main__':\n",
    "    keyword = input('검색하고 싶은 주제를 입력하세요 : ')\n",
    "    a = aladin(keyword)\n",
    "a"
   ]
  },
  {
   "cell_type": "code",
   "execution_count": 123,
   "metadata": {},
   "outputs": [],
   "source": [
    "# 엑셀 저장하기\n",
    "yes24.to_excel(\"yes24.xlsx\",index=False)"
   ]
  }
 ],
 "metadata": {
  "interpreter": {
   "hash": "5179d32cf6ec497baf3f8a3ef987cc77c5d2dc691fdde20a56316522f61a7323"
  },
  "kernelspec": {
   "display_name": "Python 3.9.7 ('base')",
   "language": "python",
   "name": "python3"
  },
  "language_info": {
   "codemirror_mode": {
    "name": "ipython",
    "version": 3
   },
   "file_extension": ".py",
   "mimetype": "text/x-python",
   "name": "python",
   "nbconvert_exporter": "python",
   "pygments_lexer": "ipython3",
   "version": "3.9.7"
  },
  "orig_nbformat": 4
 },
 "nbformat": 4,
 "nbformat_minor": 2
}
