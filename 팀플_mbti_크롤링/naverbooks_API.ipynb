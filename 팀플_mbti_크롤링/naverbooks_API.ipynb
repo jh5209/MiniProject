{
 "cells": [
  {
   "cell_type": "markdown",
   "metadata": {},
   "source": [
    "### 네이버 도서 API를 이용한 크롤링"
   ]
  },
  {
   "cell_type": "code",
   "execution_count": 2,
   "metadata": {},
   "outputs": [],
   "source": [
    "import os\n",
    "import sys\n",
    "import urllib.request\n",
    "import pandas as pd\n",
    "import json\n",
    "import re"
   ]
  },
  {
   "cell_type": "markdown",
   "metadata": {},
   "source": [
    "네이버 API는 처음부터 딕셔너리 형태로 가지고 있는 항목들을 추출하여 데이터프레임으로 만들기 용이함"
   ]
  },
  {
   "cell_type": "code",
   "execution_count": 10,
   "metadata": {},
   "outputs": [
    {
     "data": {
      "text/html": [
       "<div>\n",
       "<style scoped>\n",
       "    .dataframe tbody tr th:only-of-type {\n",
       "        vertical-align: middle;\n",
       "    }\n",
       "\n",
       "    .dataframe tbody tr th {\n",
       "        vertical-align: top;\n",
       "    }\n",
       "\n",
       "    .dataframe thead th {\n",
       "        text-align: right;\n",
       "    }\n",
       "</style>\n",
       "<table border=\"1\" class=\"dataframe\">\n",
       "  <thead>\n",
       "    <tr style=\"text-align: right;\">\n",
       "      <th></th>\n",
       "      <th>Title</th>\n",
       "      <th>Link</th>\n",
       "      <th>Description</th>\n",
       "      <th>Publisher</th>\n",
       "      <th>Isbn</th>\n",
       "      <th>Pubdate</th>\n",
       "    </tr>\n",
       "  </thead>\n",
       "  <tbody>\n",
       "    <tr>\n",
       "      <th>0</th>\n",
       "      <td>주식투자 절대원칙 (대한민국 최고 투자자 주식농부의)</td>\n",
       "      <td>http://book.naver.com/bookdb/book_detail.php?b...</td>\n",
       "      <td>최고 주식부자의 투자 비결을 담은 책이 출간됐다. 놀라운 점은 이러한 수익률이 IT...</td>\n",
       "      <td>센시오</td>\n",
       "      <td>1166570428 9791166570421</td>\n",
       "      <td>20211101</td>\n",
       "    </tr>\n",
       "    <tr>\n",
       "      <th>1</th>\n",
       "      <td>브라질에 비가 내리면 스타벅스 주식을 사라 (경제의 큰 흐름에서 기회를 잡는 매크로...</td>\n",
       "      <td>http://book.naver.com/bookdb/book_detail.php?b...</td>\n",
       "      <td>아시아의 주식시장이 충격을 받을까? 석유수출국기구가 대규모 감산을 결정하면 중국과 ...</td>\n",
       "      <td>에프엔미디어</td>\n",
       "      <td>1188754580 9791188754588</td>\n",
       "      <td>20220425</td>\n",
       "    </tr>\n",
       "    <tr>\n",
       "      <th>2</th>\n",
       "      <td>뉴욕주민의 진짜 미국식 주식투자 (월스트리트 트레이더에게 배우는 실전 투자의 정석)</td>\n",
       "      <td>http://book.naver.com/bookdb/book_detail.php?b...</td>\n",
       "      <td>“이 책을 읽기 전에 미국 주식을 시작한다면 수익의 반은 버린 것과 같다!”실전 트...</td>\n",
       "      <td>비즈니스북스</td>\n",
       "      <td>1162542608 9791162542606</td>\n",
       "      <td>20220111</td>\n",
       "    </tr>\n",
       "  </tbody>\n",
       "</table>\n",
       "</div>"
      ],
      "text/plain": [
       "                                               Title  \\\n",
       "0                      주식투자 절대원칙 (대한민국 최고 투자자 주식농부의)   \n",
       "1  브라질에 비가 내리면 스타벅스 주식을 사라 (경제의 큰 흐름에서 기회를 잡는 매크로...   \n",
       "2     뉴욕주민의 진짜 미국식 주식투자 (월스트리트 트레이더에게 배우는 실전 투자의 정석)   \n",
       "\n",
       "                                                Link  \\\n",
       "0  http://book.naver.com/bookdb/book_detail.php?b...   \n",
       "1  http://book.naver.com/bookdb/book_detail.php?b...   \n",
       "2  http://book.naver.com/bookdb/book_detail.php?b...   \n",
       "\n",
       "                                         Description Publisher  \\\n",
       "0  최고 주식부자의 투자 비결을 담은 책이 출간됐다. 놀라운 점은 이러한 수익률이 IT...       센시오   \n",
       "1  아시아의 주식시장이 충격을 받을까? 석유수출국기구가 대규모 감산을 결정하면 중국과 ...    에프엔미디어   \n",
       "2  “이 책을 읽기 전에 미국 주식을 시작한다면 수익의 반은 버린 것과 같다!”실전 트...    비즈니스북스   \n",
       "\n",
       "                       Isbn   Pubdate  \n",
       "0  1166570428 9791166570421  20211101  \n",
       "1  1188754580 9791188754588  20220425  \n",
       "2  1162542608 9791162542606  20220111  "
      ]
     },
     "execution_count": 10,
     "metadata": {},
     "output_type": "execute_result"
    }
   ],
   "source": [
    "client_id = 'aY4Gxe5F9WdX0P2JxiBz' # 발급받은 id 입력\n",
    "client_secret = 'DMple3S42_' # 발급받은 secret 입력 \n",
    "\n",
    "query = urllib.parse.quote(input('검색할 단어'))\n",
    "display = 100 # 출력할 갯수 입력받기\n",
    "start = 1\n",
    "end = 10 # 1000개까지 크롤링\n",
    "idx = 0\n",
    "sort = 'sim'\n",
    "\n",
    "# 데이터 프레임을 만들어서 for문으로 받아오는 정보를 바로 집어넣음\n",
    "df = pd.DataFrame(columns=['Title', 'Link', 'Description', 'Publisher', 'Isbn', 'Pubdate'])\n",
    "\n",
    "for start_index in range(start, end, display):\n",
    "    url = 'https://openapi.naver.com/v1/search/book?query=' + query + \\\n",
    "        '&display=' + str(display) + \\\n",
    "        '&start=' + str(start_index) + \\\n",
    "        '&sort=' + sort\n",
    "    request = urllib.request.Request(url)\n",
    "    request.add_header('X-Naver-Client-Id', 'aY4Gxe5F9WdX0P2JxiBz')\n",
    "    request.add_header('X-Naver-Client-Secret', 'DMple3S42_')\n",
    "    response = urllib.request.urlopen(request)\n",
    "    rescode = response.getcode()\n",
    "    \n",
    "    if (rescode == 200):\n",
    "        response_body = response.read()\n",
    "        items = json.loads(response_body.decode('utf-8'))['items']\n",
    "        remove_tag = re.compile('<.*?>') # 태그에 붙은 특수문제 제거\n",
    "        \n",
    "        # 데이터프레임의 해당 컬럼에 요소 집어넣기\n",
    "        for item_index in range(0, len(items)):\n",
    "            title = re.sub(remove_tag, '', items[item_index]['title'])\n",
    "            link = items[item_index]['link']\n",
    "            description = re.sub(remove_tag, '', items[item_index]['description'])\n",
    "            publisher = items[item_index]['publisher']\n",
    "            isbn = items[item_index]['isbn']\n",
    "            pubdate = items[item_index]['pubdate']\n",
    "\n",
    "            df.loc[idx] = [title, link, description, publisher, isbn, pubdate]\n",
    "            idx += 1\n",
    "    else:\n",
    "        print('Error Code: ' + rescode)\n",
    "    \n",
    "df.head(3) \n",
    "    "
   ]
  },
  {
   "cell_type": "markdown",
   "metadata": {},
   "source": [
    "### 엑셀 파일로 내보내기"
   ]
  },
  {
   "cell_type": "code",
   "execution_count": null,
   "metadata": {},
   "outputs": [],
   "source": [
    "yes24.to_excel(\"yes24.xlsx\",index=False)"
   ]
  }
 ],
 "metadata": {
  "interpreter": {
   "hash": "5179d32cf6ec497baf3f8a3ef987cc77c5d2dc691fdde20a56316522f61a7323"
  },
  "kernelspec": {
   "display_name": "Python 3.9.7 ('base')",
   "language": "python",
   "name": "python3"
  },
  "language_info": {
   "codemirror_mode": {
    "name": "ipython",
    "version": 3
   },
   "file_extension": ".py",
   "mimetype": "text/x-python",
   "name": "python",
   "nbconvert_exporter": "python",
   "pygments_lexer": "ipython3",
   "version": "3.9.7"
  },
  "orig_nbformat": 4
 },
 "nbformat": 4,
 "nbformat_minor": 2
}
