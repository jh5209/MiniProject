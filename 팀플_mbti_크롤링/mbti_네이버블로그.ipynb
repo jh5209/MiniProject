{
 "cells": [
  {
   "cell_type": "code",
   "execution_count": 2,
   "metadata": {},
   "outputs": [],
   "source": [
    "from selenium import webdriver\n",
    "from selenium.webdriver.common.keys import Keys\n",
    "import time"
   ]
  },
  {
   "cell_type": "code",
   "execution_count": 27,
   "metadata": {},
   "outputs": [
    {
     "name": "stderr",
     "output_type": "stream",
     "text": [
      "C:\\Users\\admin\\AppData\\Local\\Temp/ipykernel_10800/3056811038.py:2: DeprecationWarning: executable_path has been deprecated, please pass in a Service object\n",
      "  browser = webdriver.Chrome('D:/VS_work/crawling/chromedriver.exe')\n"
     ]
    }
   ],
   "source": [
    "# 브라우저 생성\n",
    "browser = webdriver.Chrome('D:/VS_work/crawling/chromedriver.exe')\n",
    "\n",
    "# 웹사이트 열기\n",
    "url = 'http://www.naver.com'\n",
    "browser.get(url)\n",
    "\n",
    "# 전체화면 띄우기\n",
    "browser.maximize_window()\n",
    "\n",
    "# 웹사이트 로딩이 끝날 때까지 10초 동안 기다려 줌\n",
    "browser.implicitly_wait(10)"
   ]
  },
  {
   "cell_type": "code",
   "execution_count": 24,
   "metadata": {},
   "outputs": [
    {
     "name": "stderr",
     "output_type": "stream",
     "text": [
      "C:\\Users\\admin\\AppData\\Local\\Temp/ipykernel_10800/2676547012.py:22: DeprecationWarning: find_element_by_* commands are deprecated. Please use find_element() instead\n",
      "  search2 = browser.find_element_by_xpath('//*[@id=\"search_btn\"]')\n",
      "C:\\Users\\admin\\AppData\\Local\\Temp/ipykernel_10800/2676547012.py:26: DeprecationWarning: find_element_by_* commands are deprecated. Please use find_element() instead\n",
      "  search3 = browser.find_element_by_xpath('//*[@id=\"lnb\"]/div[1]/div/ul/li[3]/a')\n",
      "C:\\Users\\admin\\AppData\\Local\\Temp/ipykernel_10800/2676547012.py:30: DeprecationWarning: find_element_by_* commands are deprecated. Please use find_element() instead\n",
      "  search4 = browser.find_element_by_xpath('//*[@id=\"snb\"]/div[1]/div/div[1]/a[2]')\n",
      "C:\\Users\\admin\\AppData\\Local\\Temp/ipykernel_10800/2676547012.py:34: DeprecationWarning: find_element_by_* commands are deprecated. Please use find_element() instead\n",
      "  items = browser.find_element_by_css_selector('.total_area')\n"
     ]
    },
    {
     "ename": "TypeError",
     "evalue": "'WebElement' object is not iterable",
     "output_type": "error",
     "traceback": [
      "\u001b[1;31m---------------------------------------------------------------------------\u001b[0m",
      "\u001b[1;31mTypeError\u001b[0m                                 Traceback (most recent call last)",
      "\u001b[1;32m~\\AppData\\Local\\Temp/ipykernel_10800/2676547012.py\u001b[0m in \u001b[0;36m<module>\u001b[1;34m\u001b[0m\n\u001b[0;32m     33\u001b[0m \u001b[1;33m\u001b[0m\u001b[0m\n\u001b[0;32m     34\u001b[0m     \u001b[0mitems\u001b[0m \u001b[1;33m=\u001b[0m \u001b[0mbrowser\u001b[0m\u001b[1;33m.\u001b[0m\u001b[0mfind_element_by_css_selector\u001b[0m\u001b[1;33m(\u001b[0m\u001b[1;34m'.total_area'\u001b[0m\u001b[1;33m)\u001b[0m\u001b[1;33m\u001b[0m\u001b[1;33m\u001b[0m\u001b[0m\n\u001b[1;32m---> 35\u001b[1;33m     \u001b[1;32mfor\u001b[0m \u001b[0mitem\u001b[0m \u001b[1;32min\u001b[0m \u001b[0mitems\u001b[0m\u001b[1;33m:\u001b[0m\u001b[1;33m\u001b[0m\u001b[1;33m\u001b[0m\u001b[0m\n\u001b[0m\u001b[0;32m     36\u001b[0m         \u001b[0mtitle\u001b[0m \u001b[1;33m=\u001b[0m \u001b[0mitem\u001b[0m\u001b[1;33m.\u001b[0m\u001b[0mfind_element_by_class_name\u001b[0m\u001b[1;33m(\u001b[0m\u001b[1;34m'.api_txt_lines'\u001b[0m\u001b[1;33m)\u001b[0m\u001b[1;33m.\u001b[0m\u001b[0mtext\u001b[0m\u001b[1;33m\u001b[0m\u001b[1;33m\u001b[0m\u001b[0m\n\u001b[0;32m     37\u001b[0m         \u001b[0mprint\u001b[0m\u001b[1;33m(\u001b[0m\u001b[0mtitle\u001b[0m\u001b[1;33m)\u001b[0m\u001b[1;33m\u001b[0m\u001b[1;33m\u001b[0m\u001b[0m\n",
      "\u001b[1;31mTypeError\u001b[0m: 'WebElement' object is not iterable"
     ]
    }
   ],
   "source": [
    "keyword_list = ['mbti',\n",
    "                'ISTJ',\n",
    "                'iSFJ',\n",
    "                'INFJ',\n",
    "                'INTJ',\n",
    "                'ISTP',\n",
    "                'ISFP',\n",
    "                'INFP',\t\n",
    "                'INTP',\n",
    "                'ESTP',\n",
    "                'ESFP',\n",
    "                'ENFP',\n",
    "                'ENTP',\n",
    "                'ESTJ',\n",
    "                'ESFJ',\n",
    "                'ENFJ',\n",
    "                'ENTJ'\n",
    "]      \n",
    "         \n",
    "for i in keyword_list:\n",
    "    search2 = browser.find_element_by_name('sectionBlogQuery')\n",
    "    search2.send_keys(i)\n",
    "    search2.click()\n",
    "    time.sleep(1)\n",
    "\n",
    "    items = browser.find_element_by_css_selector('.info_post')\n",
    "    for item in items:\n",
    "        title = item.find_element_by_css_selector('.title_post').text\n",
    "        print(title)\n",
    "\n",
    "    search2 = browser.find_element_by_name('sectionBlogQuery').clear()\n",
    "\n"
   ]
  },
  {
   "cell_type": "code",
   "execution_count": 11,
   "metadata": {},
   "outputs": [
    {
     "name": "stderr",
     "output_type": "stream",
     "text": [
      "C:\\Users\\admin\\AppData\\Local\\Temp/ipykernel_10800/1251189397.py:1: DeprecationWarning: find_element_by_* commands are deprecated. Please use find_element() instead\n",
      "  search3 = browser.find_element_by_xpath('//*[@id=\"lnb\"]/div[1]/div/ul/li[3]/a')\n"
     ]
    }
   ],
   "source": [
    "search3 = browser.find_element_by_xpath('//*[@id=\"lnb\"]/div[1]/div/ul/li[3]/a')\n",
    "search3.click()\n",
    "time.sleep(1)\n"
   ]
  },
  {
   "cell_type": "code",
   "execution_count": 12,
   "metadata": {},
   "outputs": [
    {
     "name": "stderr",
     "output_type": "stream",
     "text": [
      "C:\\Users\\admin\\AppData\\Local\\Temp/ipykernel_10800/2513833966.py:1: DeprecationWarning: find_element_by_* commands are deprecated. Please use find_element() instead\n",
      "  search4 = browser.find_element_by_xpath('//*[@id=\"snb\"]/div[1]/div/div[1]/a[2]')\n"
     ]
    }
   ],
   "source": [
    "search4 = browser.find_element_by_xpath('//*[@id=\"snb\"]/div[1]/div/div[1]/a[2]')\n",
    "search4.click()\n",
    "time.sleep(1)\n"
   ]
  },
  {
   "cell_type": "code",
   "execution_count": null,
   "metadata": {},
   "outputs": [],
   "source": []
  },
  {
   "cell_type": "code",
   "execution_count": null,
   "metadata": {},
   "outputs": [],
   "source": []
  },
  {
   "cell_type": "code",
   "execution_count": null,
   "metadata": {},
   "outputs": [],
   "source": [
    "\n",
    "# 검색어 입력\n",
    "keyword_list = ['mbti',\n",
    "              \n",
    "]\n",
    "\n",
    "for i in keyword_list:\n",
    "    search.send_keys(i)\n",
    "    search2 = browser.find_element_by_xpath('.//*[@id=\"lnb\"]/div[1]/div/ul/li[3]')\n",
    "    search2.click()\n",
    "    time.sleep(1)\n",
    "\n",
    "\n",
    "\n",
    "    search3 = browser.find_element_by_css_selector('.//*[@id=\"lnb\"]/div[1]/div/ul/li[3]')\n",
    "    search3.click()\n",
    "    time.sleep(1)\n",
    "\n",
    "    before_h = browser.execute_script('return window.scrollY')\n",
    "\n",
    "    # 무한반복문\n",
    "    while True:\n",
    "    # 맨 아래로 스크롤을 내린다.\n",
    "        browser.find_element_by_css_selector('body').send_keys(29759)\n",
    "   \n",
    "    # 스크롤 사이 페이지 로딩 시간\n",
    "        time.sleep(2)\n",
    "   \n",
    "    # 스크롤 후 높이\n",
    "        after_h = browser.execute_script('return window.scrollY')\n",
    "\n",
    "        if after_h == before_h:\n",
    "            break\n",
    "        before_h = after_h\n",
    "\n",
    "    items = browser.find_element_by_css_selector('.total_area')\n",
    "        for item in items:\n",
    "            title = item.find_element_by_css_selector('api_txt_lines').text\n",
    "            print(title)\n",
    "\n",
    "\n",
    "\n",
    "\n",
    "\n",
    "\n",
    "\n",
    "\n",
    "           "
   ]
  },
  {
   "cell_type": "code",
   "execution_count": null,
   "metadata": {},
   "outputs": [],
   "source": [
    "  'ISTJ',\n",
    "                'iSFJ',\n",
    "                'INFJ',\n",
    "                'INTJ',\n",
    "                'ISTP',\n",
    "                'ISFP',\n",
    "                'INFP',\t\n",
    "                'INTP',\n",
    "                'ESTP',\n",
    "                'ESFP',\n",
    "                'ENFP',\n",
    "                'ENTP',\n",
    "                'ESTJ',\n",
    "                'ESFJ',\n",
    "                'ENFJ',\n",
    "                'ENTJ'"
   ]
  }
 ],
 "metadata": {
  "interpreter": {
   "hash": "64ed87f41c7fdf52c331a867e6a7bb00bcc3d7ca700d58637ec15334591c407b"
  },
  "kernelspec": {
   "display_name": "Python 3.9.7 ('base')",
   "language": "python",
   "name": "python3"
  },
  "language_info": {
   "codemirror_mode": {
    "name": "ipython",
    "version": 3
   },
   "file_extension": ".py",
   "mimetype": "text/x-python",
   "name": "python",
   "nbconvert_exporter": "python",
   "pygments_lexer": "ipython3",
   "version": "3.9.7"
  },
  "orig_nbformat": 4
 },
 "nbformat": 4,
 "nbformat_minor": 2
}
